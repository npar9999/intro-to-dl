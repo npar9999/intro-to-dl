{
  "nbformat": 4,
  "nbformat_minor": 0,
  "metadata": {
    "colab": {
      "name": "document_net.ipynb",
      "provenance": [],
      "collapsed_sections": [],
      "mount_file_id": "1y7oipiSQTIpi3rxmkeGOD8xHsVxSa2N6",
      "authorship_tag": "ABX9TyNwh9yODTFF2q4oTwCmoU0K",
      "include_colab_link": true
    },
    "kernelspec": {
      "name": "python3",
      "display_name": "Python 3"
    }
  },
  "cells": [
    {
      "cell_type": "markdown",
      "metadata": {
        "id": "view-in-github",
        "colab_type": "text"
      },
      "source": [
        "<a href=\"https://colab.research.google.com/github/npar9999/intro-to-dl/blob/master/document_net.ipynb\" target=\"_parent\"><img src=\"https://colab.research.google.com/assets/colab-badge.svg\" alt=\"Open In Colab\"/></a>"
      ]
    },
    {
      "cell_type": "markdown",
      "metadata": {
        "id": "Hd-4nknTBzBW",
        "colab_type": "text"
      },
      "source": [
        "##\n",
        "1. tried different models (faster RCNN ) but result was not satisfactory . Based on different articles and papers , retinanet - gives better / faster result \n",
        "2. Below is keras implementation of retinanet"
      ]
    },
    {
      "cell_type": "markdown",
      "metadata": {
        "id": "pj1UUTooAy1s",
        "colab_type": "text"
      },
      "source": [
        "#Setup Details "
      ]
    },
    {
      "cell_type": "markdown",
      "metadata": {
        "id": "f7wBIoxiBx9H",
        "colab_type": "text"
      },
      "source": [
        ""
      ]
    },
    {
      "cell_type": "code",
      "metadata": {
        "id": "ajmQG-vzrZ_d",
        "colab_type": "code",
        "colab": {}
      },
      "source": [
        "import os"
      ],
      "execution_count": null,
      "outputs": []
    },
    {
      "cell_type": "code",
      "metadata": {
        "id": "NOj3o6Krrhoj",
        "colab_type": "code",
        "colab": {}
      },
      "source": [
        "#change Directory to working folder \n",
        "os.chdir(\"/content/drive/My Drive/AIML/\")"
      ],
      "execution_count": null,
      "outputs": []
    },
    {
      "cell_type": "code",
      "metadata": {
        "id": "tnAb5PGyrDof",
        "colab_type": "code",
        "colab": {}
      },
      "source": [
        "# git clone retinanet implementation by fizyr / uncomment \n",
        "#!git clone https://github.com/fizyr/keras-retinanet.git"
      ],
      "execution_count": null,
      "outputs": []
    },
    {
      "cell_type": "code",
      "metadata": {
        "id": "JTXA97hJrm6h",
        "colab_type": "code",
        "colab": {}
      },
      "source": [
        "# change drive to retinatent folder\n",
        "%cd keras-retinanet/"
      ],
      "execution_count": null,
      "outputs": []
    },
    {
      "cell_type": "code",
      "metadata": {
        "id": "AK1OVEcArrrh",
        "colab_type": "code",
        "colab": {}
      },
      "source": [
        "# install dependencies /uncomment \n",
        "#!pip install ."
      ],
      "execution_count": null,
      "outputs": []
    },
    {
      "cell_type": "code",
      "metadata": {
        "id": "YaqLko-krukT",
        "colab_type": "code",
        "colab": {}
      },
      "source": [
        "# install set up extention /uncomment\n",
        "#!python setup.py build_ext --inplace"
      ],
      "execution_count": null,
      "outputs": []
    },
    {
      "cell_type": "code",
      "metadata": {
        "id": "kbL5diCmAxt0",
        "colab_type": "code",
        "colab": {}
      },
      "source": [
        "!pip install keras-resnet"
      ],
      "execution_count": null,
      "outputs": []
    },
    {
      "cell_type": "markdown",
      "metadata": {
        "id": "ujZ1v7RpA3jl",
        "colab_type": "text"
      },
      "source": [
        "# import packages to be used "
      ]
    },
    {
      "cell_type": "markdown",
      "metadata": {
        "id": "-C007wcJA3gx",
        "colab_type": "text"
      },
      "source": [
        ""
      ]
    },
    {
      "cell_type": "code",
      "metadata": {
        "id": "5_cHYYG_rz3-",
        "colab_type": "code",
        "colab": {}
      },
      "source": [
        "import numpy as np\n",
        "import tensorflow as tf\n",
        "import pandas as pd\n",
        "import seaborn as sns\n",
        "from pylab import rcParams\n",
        "import matplotlib.pyplot as plt\n",
        "from matplotlib import rc\n",
        "from pandas.plotting import register_matplotlib_converters\n",
        "from sklearn.model_selection import train_test_split\n",
        "import urllib\n",
        "import os\n",
        "import csv\n",
        "import cv2\n",
        "import time\n",
        "from PIL import Image\n",
        "\n",
        "from keras_retinanet import models\n",
        "from keras_retinanet.utils.image import read_image_bgr, preprocess_image, resize_image\n",
        "from keras_retinanet.utils.visualization import draw_box, draw_caption\n",
        "from keras_retinanet.utils.colors import label_color\n",
        "\n",
        "%matplotlib inline\n",
        "%config InlineBackend.figure_format='retina'\n",
        "\n",
        "register_matplotlib_converters()\n",
        "sns.set(style='whitegrid', palette='muted', font_scale=1.5)\n",
        "\n",
        "rcParams['figure.figsize'] = 22, 10\n",
        "\n",
        "RANDOM_SEED = 42\n",
        "\n",
        "np.random.seed(RANDOM_SEED)\n",
        "tf.random.set_seed(RANDOM_SEED)"
      ],
      "execution_count": null,
      "outputs": []
    },
    {
      "cell_type": "code",
      "metadata": {
        "id": "aUQdzM7IFHy_",
        "colab_type": "code",
        "colab": {}
      },
      "source": [
        "import keras_resnet"
      ],
      "execution_count": null,
      "outputs": []
    },
    {
      "cell_type": "markdown",
      "metadata": {
        "id": "onvoBmLzA7sB",
        "colab_type": "text"
      },
      "source": [
        "## directory path of images and csv path"
      ]
    },
    {
      "cell_type": "code",
      "metadata": {
        "id": "hMvc8VSksH3O",
        "colab_type": "code",
        "colab": {}
      },
      "source": [
        "# define path\n",
        "image_dir = \"/content/drive/My Drive/concord/principal_engineer_ai/keras-retinanet/data/images/\"\n",
        "csv_path = \"/content/drive/My Drive/concord/principal_engineer_ai/keras-retinanet/data/\"\n"
      ],
      "execution_count": null,
      "outputs": []
    },
    {
      "cell_type": "code",
      "metadata": {
        "id": "_UqczpDKsRcm",
        "colab_type": "code",
        "colab": {}
      },
      "source": [
        "# CSV dataframe \n",
        "df_train = pd.read_csv(csv_path+\"train.csv\")\n",
        "df_train.head()"
      ],
      "execution_count": null,
      "outputs": []
    },
    {
      "cell_type": "code",
      "metadata": {
        "id": "p4Qy-UdAsVw6",
        "colab_type": "code",
        "colab": {}
      },
      "source": [
        "# rename filds for better understanding \n",
        "df_train[\"FileName\"] = df_train[\"FileName\"].apply((lambda x:image_dir+x))\n",
        "df_train.rename(columns={\"FileName\": \"image_name\", \"x1\": \"x_min\",\"y1\":\"y_min\",\"x2\":\"x_max\",\"y2\":\"y_max\",\"class\":\"class_name\"},inplace=True)"
      ],
      "execution_count": null,
      "outputs": []
    },
    {
      "cell_type": "code",
      "metadata": {
        "id": "2IHQH2s8shVL",
        "colab_type": "code",
        "colab": {}
      },
      "source": [
        "# function to show images \n",
        "def show_image_objects(image_row):\n",
        "\n",
        "  img_path = image_row.image_name\n",
        "  box = [\n",
        "    image_row.x_min, image_row.y_min, image_row.x_max, image_row.y_max\n",
        "  ]\n",
        "\n",
        "  image = read_image_bgr(img_path) # read image , calls cv2 package \n",
        "\n",
        "  draw = image.copy()\n",
        "  draw = cv2.cvtColor(draw, cv2.COLOR_BGR2RGB)\n",
        "\n",
        "  draw_box(draw, box, color=(0,255, 0)) # show in green color\n",
        "\n",
        "  plt.axis('off')\n",
        "  plt.imshow(draw)\n",
        "  plt.show()"
      ],
      "execution_count": null,
      "outputs": []
    },
    {
      "cell_type": "code",
      "metadata": {
        "id": "8tqcsYLhskKw",
        "colab_type": "code",
        "colab": {}
      },
      "source": [
        "# check sample image\n",
        "show_image_objects(df_train.iloc[2])"
      ],
      "execution_count": null,
      "outputs": []
    },
    {
      "cell_type": "code",
      "metadata": {
        "id": "c5OWG9UXsnWi",
        "colab_type": "code",
        "colab": {}
      },
      "source": [
        "# create test data frame for test csv file \n",
        "df_test = pd.read_csv(csv_path+\"val.csv\")\n",
        "\n",
        "df_test[\"FileName\"] = df_test[\"FileName\"].apply((lambda x:image_dir+x))\n",
        "df_test.rename(columns={\"FileName\": \"image_name\", \"x1\": \"x_min\",\"y1\":\"y_min\",\"x2\":\"x_max\",\"y2\":\"y_max\",\"class\":\"class_name\"},inplace=True)\n",
        "df_test.head()"
      ],
      "execution_count": null,
      "outputs": []
    },
    {
      "cell_type": "code",
      "metadata": {
        "id": "Tet4dYr3sual",
        "colab_type": "code",
        "colab": {}
      },
      "source": [
        "# to pass data to retina net model we need to pass annotation and classes file \n",
        "ANNOTATIONS_FILE = 'annotations.csv'\n",
        "CLASSES_FILE = 'classes.csv'"
      ],
      "execution_count": null,
      "outputs": []
    },
    {
      "cell_type": "code",
      "metadata": {
        "id": "SXFi-RD-s3P6",
        "colab_type": "code",
        "colab": {}
      },
      "source": [
        "# check current directory location\n",
        "!pwd"
      ],
      "execution_count": null,
      "outputs": []
    },
    {
      "cell_type": "code",
      "metadata": {
        "id": "j2yDFszLszVQ",
        "colab_type": "code",
        "colab": {}
      },
      "source": [
        "# create annotation file \n",
        "df_train.to_csv(ANNOTATIONS_FILE, index=False, header=None)"
      ],
      "execution_count": null,
      "outputs": []
    },
    {
      "cell_type": "code",
      "metadata": {
        "id": "_7bD5Fw2s5OY",
        "colab_type": "code",
        "colab": {}
      },
      "source": [
        "# create a class file . In this case since we are looking only at 1 type of image / table is passed as class\n",
        "classes = set(['table'])\n",
        "\n",
        "with open(CLASSES_FILE, 'w') as f:\n",
        "  for i, line in enumerate(sorted(classes)):\n",
        "    f.write('{},{}\\n'.format(line,i))"
      ],
      "execution_count": null,
      "outputs": []
    },
    {
      "cell_type": "code",
      "metadata": {
        "id": "wnA33oJws9cg",
        "colab_type": "code",
        "colab": {}
      },
      "source": [
        "!head classes.csv"
      ],
      "execution_count": null,
      "outputs": []
    },
    {
      "cell_type": "code",
      "metadata": {
        "id": "Ngh_F76VtAIy",
        "colab_type": "code",
        "colab": {}
      },
      "source": [
        "!head annotations.csv"
      ],
      "execution_count": null,
      "outputs": []
    },
    {
      "cell_type": "code",
      "metadata": {
        "id": "tIHPSe6lsdXu",
        "colab_type": "code",
        "colab": {}
      },
      "source": [
        "# create directory to store model checkpoints \n",
        "os.makedirs(\"snapshots\", exist_ok=True)"
      ],
      "execution_count": null,
      "outputs": []
    },
    {
      "cell_type": "code",
      "metadata": {
        "id": "SlVHm_xMtDDz",
        "colab_type": "code",
        "colab": {}
      },
      "source": [
        "\n",
        "PRETRAINED_MODEL = './snapshots/_pretrained_model.h5'"
      ],
      "execution_count": null,
      "outputs": []
    },
    {
      "cell_type": "code",
      "metadata": {
        "id": "rda2xfO3tHnY",
        "colab_type": "code",
        "colab": {}
      },
      "source": [
        "# download pretrained model\n",
        "URL_MODEL = 'https://github.com/fizyr/keras-retinanet/releases/download/0.5.1/resnet50_coco_best_v2.1.0.h5'\n",
        "urllib.request.urlretrieve(URL_MODEL, PRETRAINED_MODEL)\n",
        "\n",
        "print('Downloaded pretrained model to ' + PRETRAINED_MODEL)"
      ],
      "execution_count": null,
      "outputs": []
    },
    {
      "cell_type": "code",
      "metadata": {
        "id": "rE803SmJ3yX7",
        "colab_type": "code",
        "colab": {}
      },
      "source": [
        "#!pwd"
      ],
      "execution_count": null,
      "outputs": []
    },
    {
      "cell_type": "code",
      "metadata": {
        "id": "_07ClgMeDqgL",
        "colab_type": "code",
        "colab": {}
      },
      "source": [
        "# details for  model invocation \n",
        "'''\n",
        "call train.py\n",
        "default backbone : resnet50 \n",
        "\n",
        "parms passed :\n",
        "freeze-backbone : would disable learning for the backbone \n",
        "random-transform : creates random transforms for augmenting train data \n",
        "\n",
        "weights  : Initialize the model with weights / pretrained_model\n",
        "batch-size : 8  (size of batches )\n",
        "steps : 10 \n",
        "epochs :  Number of epochs to train \n",
        "\n",
        "input format : csv\n",
        "1.annotations.csv -> csv file consisting of path and annotations \n",
        "2.classes.csv\n",
        "'''\n",
        "\n",
        "'''\n",
        "To resume training from snapshots \n",
        "pass --snapshots \n",
        "-- initial-epochs  (type = int , default is 0)\n",
        "'''\n",
        "\n",
        "'''\n",
        "compilation used \n",
        " # compile model\n",
        "    training_model.compile(\n",
        "        loss={\n",
        "            'regression'    : losses.smooth_l1(),\n",
        "            'classification': losses.focal()\n",
        "        },\n",
        "        optimizer=keras.optimizers.Adam(lr=lr, clipnorm=0.001)\n",
        "    )\n",
        "\n",
        "'''\n",
        "\n",
        "'''\n",
        "Returns \n",
        "model saved in snapshots \n",
        "'''\n",
        "\n",
        "# other parameters taken as default\n",
        "#lr = 1e-5\n",
        "\n",
        "\n",
        "# this is stripped down version of model and has values only necessary for training \n",
        "#classification and regression values"
      ],
      "execution_count": null,
      "outputs": []
    },
    {
      "cell_type": "code",
      "metadata": {
        "id": "FlLmOUQhtMb5",
        "colab_type": "code",
        "colab": {}
      },
      "source": [
        "!python keras_retinanet/bin/train.py --freeze-backbone --random-transform --weights {PRETRAINED_MODEL} --batch-size 8 --steps 10 --epochs 10 csv annotations.csv classes.csv"
      ],
      "execution_count": null,
      "outputs": []
    },
    {
      "cell_type": "markdown",
      "metadata": {
        "id": "lwBpiZ6b_eRg",
        "colab_type": "text"
      },
      "source": [
        "#loading trained model "
      ]
    },
    {
      "cell_type": "code",
      "metadata": {
        "id": "Is99PYGntWBR",
        "colab_type": "code",
        "colab": {}
      },
      "source": [
        "!ls snapshots"
      ],
      "execution_count": null,
      "outputs": []
    },
    {
      "cell_type": "markdown",
      "metadata": {
        "id": "DBqGaX4TCZOR",
        "colab_type": "text"
      },
      "source": [
        "# training models run on stripped version\n",
        "# run inference model for detection "
      ]
    },
    {
      "cell_type": "code",
      "metadata": {
        "id": "dBQpOXX2CYFI",
        "colab_type": "code",
        "colab": {}
      },
      "source": [
        "# to do object detection , we need to convert the model using #convert_model"
      ],
      "execution_count": null,
      "outputs": []
    },
    {
      "cell_type": "code",
      "metadata": {
        "id": "YxNpo_vF_jYj",
        "colab_type": "code",
        "colab": {}
      },
      "source": [
        "model_path = os.path.join('snapshots', sorted(os.listdir('snapshots'), reverse=True)[0])\n",
        "print(model_path)\n",
        "\n",
        "model = models.load_model(model_path, backbone_name='resnet50')\n",
        "model = models.convert_model(model)\n",
        "\n",
        "labels_to_names = pd.read_csv(CLASSES_FILE, header=None).T.loc[0].to_dict()"
      ],
      "execution_count": null,
      "outputs": []
    },
    {
      "cell_type": "markdown",
      "metadata": {
        "id": "pwR-oIxL_wjp",
        "colab_type": "text"
      },
      "source": [
        "# predictions "
      ]
    },
    {
      "cell_type": "code",
      "metadata": {
        "id": "oB8EBfzC_vzX",
        "colab_type": "code",
        "colab": {}
      },
      "source": [
        "# function to predict image \n",
        "def predict(image):\n",
        "  image = preprocess_image(image.copy()) # preprocess the image \n",
        "  image, scale = resize_image(image) # resize image \n",
        "\n",
        "# use model to predict bonding boxes / scores and labels \n",
        "  boxes, scores, labels = model.predict_on_batch(\n",
        "    np.expand_dims(image, axis=0))   \n",
        "\n",
        "  boxes /= scale\n",
        "\n",
        "  return boxes, scores, labels"
      ],
      "execution_count": null,
      "outputs": []
    },
    {
      "cell_type": "code",
      "metadata": {
        "id": "9CosKb24_spJ",
        "colab_type": "code",
        "colab": {}
      },
      "source": [
        "# set threshold score for confidence \n",
        "THRES_SCORE = 0.5\n",
        "\n",
        "# function to draw predicted boxes \n",
        "def draw_detections(image, boxes, scores, labels):\n",
        "  for box, score, label in zip(boxes[0], scores[0], labels[0]):\n",
        "    if score < THRES_SCORE:\n",
        "        break\n",
        "\n",
        "    color = label_color(label)\n",
        "\n",
        "    b = box.astype(int)\n",
        "    draw_box(image, b, color=color)\n",
        "\n",
        "    caption = \"{} {:.3f}\".format(labels_to_names[label], score)\n",
        "    draw_caption(image, b, caption)\n"
      ],
      "execution_count": null,
      "outputs": []
    },
    {
      "cell_type": "code",
      "metadata": {
        "id": "UACN60nI_97G",
        "colab_type": "code",
        "colab": {}
      },
      "source": [
        "# function to show detected objects \n",
        "def show_detected_objects(image_row):\n",
        "  img_path = image_row.image_name\n",
        "  \n",
        "  image = read_image_bgr(img_path)\n",
        "  # call the model and predict (defined above \n",
        "  boxes, scores, labels = predict(image)\n",
        "\n",
        "  draw = image.copy()\n",
        "  draw = cv2.cvtColor(draw, cv2.COLOR_BGR2RGB)\n",
        "\n",
        "  true_box = [\n",
        "    image_row.x_min, image_row.y_min, image_row.x_max, image_row.y_max\n",
        "  ]\n",
        "  #defined above \n",
        "  draw_box(draw, true_box, color=(255,0, 0))\n",
        "  # defined above\n",
        "  draw_detections(draw, boxes, scores, labels)\n",
        "\n",
        "  plt.axis('off')\n",
        "  plt.imshow(draw)\n",
        "  plt.show()"
      ],
      "execution_count": null,
      "outputs": []
    },
    {
      "cell_type": "code",
      "metadata": {
        "id": "g75okBTm__Hk",
        "colab_type": "code",
        "colab": {}
      },
      "source": [
        "# show sample test data \n",
        "df_test.head(n=10)"
      ],
      "execution_count": null,
      "outputs": []
    },
    {
      "cell_type": "code",
      "metadata": {
        "id": "N0v7rsiUF2tI",
        "colab_type": "code",
        "colab": {}
      },
      "source": [
        "# show image object / orignal ground truth \n",
        "show_image_objects(df_test.iloc[4])"
      ],
      "execution_count": null,
      "outputs": []
    },
    {
      "cell_type": "code",
      "metadata": {
        "id": "P9m67vJVC7mq",
        "colab_type": "code",
        "colab": {}
      },
      "source": [
        "# show detected object / predicted value for sample image \n",
        "show_detected_objects(df_test.iloc[4])"
      ],
      "execution_count": null,
      "outputs": []
    },
    {
      "cell_type": "code",
      "metadata": {
        "id": "njOQoliAO-Ca",
        "colab_type": "code",
        "colab": {}
      },
      "source": [
        ""
      ],
      "execution_count": null,
      "outputs": []
    },
    {
      "cell_type": "code",
      "metadata": {
        "id": "LEH4y0VXO9_G",
        "colab_type": "code",
        "colab": {}
      },
      "source": [
        ""
      ],
      "execution_count": null,
      "outputs": []
    },
    {
      "cell_type": "code",
      "metadata": {
        "id": "LNH__uYnDIyM",
        "colab_type": "code",
        "colab": {}
      },
      "source": [
        "$ jupyter nbconvert --to html mynotebook.ipynb"
      ],
      "execution_count": null,
      "outputs": []
    }
  ]
}